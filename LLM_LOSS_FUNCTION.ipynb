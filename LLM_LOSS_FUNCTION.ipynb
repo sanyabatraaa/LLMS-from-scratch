{
  "nbformat": 4,
  "nbformat_minor": 0,
  "metadata": {
    "colab": {
      "provenance": [],
      "gpuType": "T4"
    },
    "kernelspec": {
      "name": "python3",
      "display_name": "Python 3"
    },
    "language_info": {
      "name": "python"
    },
    "accelerator": "GPU"
  },
  "cells": [
    {
      "cell_type": "code",
      "source": [
        "import torch.nn as nn\n",
        "import torch\n",
        "!pip install tiktoken"
      ],
      "metadata": {
        "colab": {
          "base_uri": "https://localhost:8080/"
        },
        "id": "vgWxaJI8nPet",
        "outputId": "2f1a6d93-1739-4e5c-d551-d14f566f269b"
      },
      "execution_count": 1,
      "outputs": [
        {
          "output_type": "stream",
          "name": "stdout",
          "text": [
            "Requirement already satisfied: tiktoken in /usr/local/lib/python3.11/dist-packages (0.9.0)\n",
            "Requirement already satisfied: regex>=2022.1.18 in /usr/local/lib/python3.11/dist-packages (from tiktoken) (2024.11.6)\n",
            "Requirement already satisfied: requests>=2.26.0 in /usr/local/lib/python3.11/dist-packages (from tiktoken) (2.32.3)\n",
            "Requirement already satisfied: charset-normalizer<4,>=2 in /usr/local/lib/python3.11/dist-packages (from requests>=2.26.0->tiktoken) (3.4.2)\n",
            "Requirement already satisfied: idna<4,>=2.5 in /usr/local/lib/python3.11/dist-packages (from requests>=2.26.0->tiktoken) (3.10)\n",
            "Requirement already satisfied: urllib3<3,>=1.21.1 in /usr/local/lib/python3.11/dist-packages (from requests>=2.26.0->tiktoken) (2.5.0)\n",
            "Requirement already satisfied: certifi>=2017.4.17 in /usr/local/lib/python3.11/dist-packages (from requests>=2.26.0->tiktoken) (2025.7.14)\n"
          ]
        }
      ]
    },
    {
      "cell_type": "code",
      "source": [
        "class LayerNorm(nn.Module):\n",
        "  def __init__(self,emb_dim):\n",
        "    super().__init__()\n",
        "    self.eps=1e-5\n",
        "    self.scale= nn.Parameter(torch.ones(emb_dim))\n",
        "    self.shift= nn.Parameter(torch.zeros(emb_dim))\n",
        "\n",
        "  def forward(self,x):\n",
        "    mean= x.mean(dim=-1,keepdim=True)\n",
        "    var= x.var(dim=-1,keepdim=True,unbiased=False)\n",
        "    norm_x= (x-mean)/torch.sqrt(var+self.eps)\n",
        "    return self.scale * norm_x + self.shift"
      ],
      "metadata": {
        "id": "TqaKv5ZBm3Mv"
      },
      "execution_count": 2,
      "outputs": []
    },
    {
      "cell_type": "code",
      "source": [
        "class MultiHeadAttention(nn.Module):\n",
        "  def __init__(self,d_in,d_out,context_length,dropout,num_heads,qkv_bias=False):\n",
        "    super().__init__()\n",
        "    assert(d_out%num_heads==0),\\\n",
        "    \"d_out must be divisible by num_heads\"\n",
        "    self.d_out= d_out\n",
        "    self.num_heads= num_heads\n",
        "    self.head_dim= d_out//num_heads\n",
        "    self.W_query= nn.Linear(d_in,d_out,bias=qkv_bias)\n",
        "    self.W_key= nn.Linear(d_in,d_out,bias=qkv_bias)\n",
        "    self.W_value= nn.Linear(d_in,d_out,bias=qkv_bias)\n",
        "    self.out_proj=nn.Linear(d_out,d_out) #linear layer to combine head outputs\n",
        "    self.dropout= nn.Dropout(dropout)\n",
        "    self.register_buffer(\"mask\",torch.triu(torch.ones(context_length,context_length),diagonal=1))\n",
        "\n",
        "  def forward(self,x):\n",
        "    b,num_tokens,d_in= x.shape\n",
        "    keys= self.W_key(x) # (b,num_tokens,d_out)\n",
        "    queries= self.W_query(x)\n",
        "    values= self.W_value(x)\n",
        "    # we implicitly split matrix by adding num_heads dim\n",
        "    keys= keys.view(b,num_tokens,self.num_heads,self.head_dim)\n",
        "    queries= queries.view(b,num_tokens,self.num_heads,self.head_dim)\n",
        "    values= values.view(b,num_tokens,self.num_heads,self.head_dim)\n",
        "    #transpose (b,num_tokens,num_heads,head_dim)->(b,num_heads,num_tokens,head_dim)\n",
        "    #This dimension helps in parallel computation\n",
        "    keys= keys.transpose(1,2)\n",
        "    queries=queries.transpose(1,2)\n",
        "    values= values.transpose(1,2)\n",
        "    attn_scores= queries @ keys.transpose(2,3) #(b,num_heads,num_tokens,num_tokens)\n",
        "    mask_bool= self.mask.bool()[:num_tokens,:num_tokens]\n",
        "    attn_scores.masked_fill_(mask_bool,-torch.inf)\n",
        "    attn_weights= torch.softmax(attn_scores/keys.shape[-1]**0.5,dim=-1)\n",
        "    attn_weights= self.dropout(attn_weights)\n",
        "    #context vec before tanspose (b,num_heads,num_token,head_dim)\n",
        "    #after transpose (b,num_tokens,num_heads,head_dim)\n",
        "    #merging the heads back\n",
        "    context_vec= (attn_weights @ values).transpose(1,2)\n",
        "    context_vec= context_vec.contiguous().view(b,num_tokens,self.d_out)\n",
        "    context_vec= self.out_proj(context_vec)\n",
        "    return context_vec"
      ],
      "metadata": {
        "id": "NOdjtzn1nIzN"
      },
      "execution_count": 3,
      "outputs": []
    },
    {
      "cell_type": "code",
      "source": [
        "class GELU(nn.Module):\n",
        "  def __init__(self):\n",
        "    super().__init__()\n",
        "\n",
        "  def forward(self,x):\n",
        "    return 0.5*x*(1+torch.tanh(torch.sqrt(torch.tensor(2.0/torch.pi)))*(x+0.044715*torch.pow(x,3)))\n"
      ],
      "metadata": {
        "id": "Fvb8CtCcnmwS"
      },
      "execution_count": 4,
      "outputs": []
    },
    {
      "cell_type": "code",
      "source": [
        "class FeedForward(nn.Module):\n",
        "  def __init__(self,cfg):\n",
        "    super().__init__()\n",
        "    self.layers= nn.Sequential(\n",
        "        nn.Linear(cfg[\"emb_dim\"],4*cfg[\"emb_dim\"]),\n",
        "        GELU(),\n",
        "        nn.Linear(4*cfg[\"emb_dim\"],cfg[\"emb_dim\"])\n",
        "    )\n",
        "\n",
        "  def forward(self,x):\n",
        "    return self.layers(x)"
      ],
      "metadata": {
        "id": "M2qRhA6-nhMv"
      },
      "execution_count": 5,
      "outputs": []
    },
    {
      "cell_type": "code",
      "source": [
        "class TransformerBlock(nn.Module):\n",
        "  def __init__(self,cfg):\n",
        "    super().__init__()\n",
        "    self.att= MultiHeadAttention(\n",
        "        d_in= cfg[\"emb_dim\"],\n",
        "        d_out= cfg[\"emb_dim\"],\n",
        "        context_length= cfg[\"context_length\"],\n",
        "        num_heads= cfg[\"n_heads\"],\n",
        "        dropout= cfg[\"drop_rate\"],\n",
        "        qkv_bias= cfg[\"qkv_bias\"]\n",
        "    )\n",
        "    self.ff= FeedForward(cfg)\n",
        "    self.norm1= LayerNorm(cfg[\"emb_dim\"])\n",
        "    self.norm2= LayerNorm(cfg[\"emb_dim\"])\n",
        "    self.drop_shortcut= nn.Dropout(cfg[\"drop_rate\"])\n",
        "\n",
        "  def forward(self,x):\n",
        "    shortcut=x\n",
        "    x= self.norm1(x)\n",
        "    x= self.att(x)\n",
        "    x= self.drop_shortcut(x)\n",
        "    x=shortcut+x\n",
        "\n",
        "    shortcut=x\n",
        "    x= self.norm2(x)\n",
        "    x= self.ff(x)\n",
        "    x= self.drop_shortcut(x)\n",
        "    x=x+shortcut\n",
        "\n",
        "    return x\n"
      ],
      "metadata": {
        "id": "CWfeSKUamxTn"
      },
      "execution_count": 6,
      "outputs": []
    },
    {
      "cell_type": "code",
      "execution_count": 7,
      "metadata": {
        "id": "tY_5r6ugl3c2"
      },
      "outputs": [],
      "source": [
        "class GPTModel(nn.Module):\n",
        "    def __init__(self, cfg):\n",
        "        super().__init__()\n",
        "        self.tok_emb = nn.Embedding(cfg[\"vocab_size\"], cfg[\"emb_dim\"])\n",
        "        self.pos_emb = nn.Embedding(cfg[\"context_length\"], cfg[\"emb_dim\"])\n",
        "        self.drop_emb = nn.Dropout(cfg[\"drop_rate\"])\n",
        "\n",
        "        self.trf_blocks = nn.Sequential(\n",
        "            *[TransformerBlock(cfg) for _ in range(cfg[\"n_layers\"])])\n",
        "\n",
        "        self.final_norm = LayerNorm(cfg[\"emb_dim\"])\n",
        "        self.out_head = nn.Linear(\n",
        "            cfg[\"emb_dim\"], cfg[\"vocab_size\"], bias=False\n",
        "        )\n",
        "\n",
        "    def forward(self, in_idx):\n",
        "        batch_size, seq_len = in_idx.shape\n",
        "        tok_embeds = self.tok_emb(in_idx)\n",
        "        pos_embeds = self.pos_emb(torch.arange(seq_len, device=in_idx.device))\n",
        "        x = tok_embeds + pos_embeds  # Shape [batch_size, num_tokens, emb_size]\n",
        "        x = self.drop_emb(x)\n",
        "        x = self.trf_blocks(x)\n",
        "        x = self.final_norm(x)\n",
        "        logits = self.out_head(x)\n",
        "        return logits"
      ]
    },
    {
      "cell_type": "code",
      "source": [
        "GPT_CONFIG_124M = {\n",
        "    \"vocab_size\": 50257,   # Vocabulary size\n",
        "    \"context_length\": 256, # Shortened context length (orig: 1024)\n",
        "    \"emb_dim\": 768,        # Embedding dimension\n",
        "    \"n_heads\": 12,         # Number of attention heads\n",
        "    \"n_layers\": 12,        # Number of layers\n",
        "    \"drop_rate\": 0.1,      # Dropout rate\n",
        "    \"qkv_bias\": False      # Query-key-value bias\n",
        "}\n",
        "model = GPTModel(GPT_CONFIG_124M)\n",
        "model.eval();"
      ],
      "metadata": {
        "id": "1QCgKgmvn4MM"
      },
      "execution_count": 8,
      "outputs": []
    },
    {
      "cell_type": "code",
      "source": [
        "def generate_text_simple(model,idx,max_new_tokens,context_size):\n",
        "  for _ in range(max_new_tokens):\n",
        "    idx_cond= idx[:,-context_size:]\n",
        "    with torch.no_grad():\n",
        "      logits= model(idx_cond)\n",
        "    logits= logits[:,-1,:]\n",
        "    probas= torch.softmax(logits,dim=-1)\n",
        "    idx_next= torch.argmax(probas,dim=-1,keepdim=True)\n",
        "    idx= torch.cat((idx,idx_next),dim=1)\n",
        "  return idx"
      ],
      "metadata": {
        "id": "vfxo0RJWppmW"
      },
      "execution_count": 9,
      "outputs": []
    },
    {
      "cell_type": "code",
      "source": [
        "import tiktoken\n",
        "def text_to_token_ids(text,tokenizer):\n",
        "  encoded= tokenizer.encode(text,allowed_special={'<|endoftext|>'})\n",
        "  encoded_tensor= torch.tensor(encoded).unsqueeze(0) #Adds a dimension of size 1 at the specified position.\n",
        "  return encoded_tensor\n",
        "\n",
        "def token_ids_to_text(token_ids,tokenizer):\n",
        "  flat= token_ids.squeeze(0)\n",
        "  return tokenizer.decode(flat.tolist())\n",
        "\n",
        "start_context= \"Every effort moves you\"\n",
        "tokenizer= tiktoken.get_encoding(\"gpt2\")\n",
        "token_ids= generate_text_simple(\n",
        "    model=model,\n",
        "    idx=text_to_token_ids(start_context,tokenizer),\n",
        "    max_new_tokens=10,\n",
        "    context_size= GPT_CONFIG_124M[\"context_length\"]\n",
        ")\n",
        "print(token_ids_to_text(token_ids,tokenizer))"
      ],
      "metadata": {
        "colab": {
          "base_uri": "https://localhost:8080/"
        },
        "id": "ymQKN-kUoF-5",
        "outputId": "93077c04-0244-4df3-cfbd-014799a8d796"
      },
      "execution_count": 10,
      "outputs": [
        {
          "output_type": "stream",
          "name": "stdout",
          "text": [
            "Every effort moves you Gambleя Myr PillTeen dresses Psychology wor ridic Jehovah\n"
          ]
        }
      ]
    },
    {
      "cell_type": "code",
      "source": [
        "inputs = torch.tensor([[16833, 3626, 6100],   # [\"every effort moves\",\n",
        "                       [40,    1107, 588]])   #  \"I really like\"]\n",
        "\n",
        "targets = torch.tensor([[3626, 6100, 345  ],  # [\" effort moves you\",\n",
        "                        [1107,  588, 11311]]) #  \" really like chocolate\"]"
      ],
      "metadata": {
        "id": "_BnJbOt9qhwv"
      },
      "execution_count": 11,
      "outputs": []
    },
    {
      "cell_type": "code",
      "source": [
        "with torch.no_grad():\n",
        "  logits= model(inputs)\n",
        "\n",
        "probas= torch.softmax(logits,dim=-1)\n",
        "print(probas.shape)\n",
        "print(probas)"
      ],
      "metadata": {
        "colab": {
          "base_uri": "https://localhost:8080/"
        },
        "id": "Tz2q7Bj3qh6C",
        "outputId": "0d34a3eb-1e63-4aa3-d19c-9350da2777f8"
      },
      "execution_count": 12,
      "outputs": [
        {
          "output_type": "stream",
          "name": "stdout",
          "text": [
            "torch.Size([2, 3, 50257])\n",
            "tensor([[[1.8680e-05, 1.8059e-05, 3.3356e-05,  ..., 1.7160e-05,\n",
            "          1.1289e-05, 1.1339e-05],\n",
            "         [6.3086e-06, 1.7280e-05, 1.6449e-05,  ..., 1.4804e-05,\n",
            "          1.5839e-05, 4.7729e-06],\n",
            "         [1.6625e-05, 1.1277e-05, 1.6356e-05,  ..., 7.5937e-06,\n",
            "          7.7565e-06, 2.1299e-05]],\n",
            "\n",
            "        [[4.7255e-06, 2.3671e-05, 3.2888e-05,  ..., 9.8001e-06,\n",
            "          8.0078e-06, 3.5715e-05],\n",
            "         [8.4019e-06, 1.9870e-05, 8.0899e-06,  ..., 8.6421e-06,\n",
            "          1.6314e-05, 9.8128e-06],\n",
            "         [2.4459e-05, 8.3489e-06, 1.1318e-05,  ..., 7.4059e-06,\n",
            "          1.1175e-05, 3.0409e-05]]])\n"
          ]
        }
      ]
    },
    {
      "cell_type": "code",
      "source": [
        "token_ids = torch.argmax(probas,dim=-1,keepdim=True)\n",
        "print(token_ids)"
      ],
      "metadata": {
        "colab": {
          "base_uri": "https://localhost:8080/"
        },
        "id": "ewP9LRZksjCc",
        "outputId": "5b533dd4-c6f9-4e38-9f74-4849fac767d4"
      },
      "execution_count": 13,
      "outputs": [
        {
          "output_type": "stream",
          "name": "stdout",
          "text": [
            "tensor([[[ 2210],\n",
            "         [39383],\n",
            "         [17114]],\n",
            "\n",
            "        [[32834],\n",
            "         [13031],\n",
            "         [14003]]])\n"
          ]
        }
      ]
    },
    {
      "cell_type": "code",
      "source": [
        "batch_no=0\n",
        "target_probas_1= probas[batch_no,[0,1,2],targets[batch_no]]\n",
        "print(target_probas_1)\n",
        "\n",
        "batch_no=1\n",
        "target_probas_2= probas[batch_no,[0,1,2],targets[batch_no]]\n",
        "print(target_probas_2)"
      ],
      "metadata": {
        "colab": {
          "base_uri": "https://localhost:8080/"
        },
        "id": "FKcdvQjasjsW",
        "outputId": "2780ab99-62e4-46af-c4f3-e1b803b2ce66"
      },
      "execution_count": 14,
      "outputs": [
        {
          "output_type": "stream",
          "name": "stdout",
          "text": [
            "tensor([2.9408e-05, 1.2241e-05, 8.7907e-06])\n",
            "tensor([2.9447e-05, 8.4477e-06, 2.7971e-05])\n"
          ]
        }
      ]
    },
    {
      "cell_type": "code",
      "source": [
        "log_probas = torch.log(torch.cat((target_probas_1, target_probas_2)))\n",
        "print(log_probas)"
      ],
      "metadata": {
        "colab": {
          "base_uri": "https://localhost:8080/"
        },
        "id": "xacV5qq4T7w_",
        "outputId": "4d55765a-e135-4f5b-819c-83a036e12f31"
      },
      "execution_count": 15,
      "outputs": [
        {
          "output_type": "stream",
          "name": "stdout",
          "text": [
            "tensor([-10.4342, -11.3107, -11.6418, -10.4329, -11.6816, -10.4843])\n"
          ]
        }
      ]
    },
    {
      "cell_type": "code",
      "source": [
        "avg_log_probas = torch.mean(log_probas)\n",
        "print(avg_log_probas)"
      ],
      "metadata": {
        "colab": {
          "base_uri": "https://localhost:8080/"
        },
        "id": "VVznwgzJT760",
        "outputId": "f73d5914-ef7b-43f3-c06a-4c2bcd424227"
      },
      "execution_count": 16,
      "outputs": [
        {
          "output_type": "stream",
          "name": "stdout",
          "text": [
            "tensor(-10.9976)\n"
          ]
        }
      ]
    },
    {
      "cell_type": "code",
      "source": [
        "neg_avg_log_probas = avg_log_probas * -1\n",
        "print(neg_avg_log_probas)"
      ],
      "metadata": {
        "colab": {
          "base_uri": "https://localhost:8080/"
        },
        "id": "xMZsLFI9T7-Y",
        "outputId": "d16fc7c4-8f3f-439f-843d-6040fd4353cb"
      },
      "execution_count": 17,
      "outputs": [
        {
          "output_type": "stream",
          "name": "stdout",
          "text": [
            "tensor(10.9976)\n"
          ]
        }
      ]
    },
    {
      "cell_type": "code",
      "source": [
        "logits_flat = logits.flatten(0, 1)\n",
        "targets_flat = targets.flatten()\n",
        "\n",
        "print(\"Flattened logits:\", logits_flat.shape)\n",
        "print(\"Flattened targets:\", targets_flat.shape)"
      ],
      "metadata": {
        "colab": {
          "base_uri": "https://localhost:8080/"
        },
        "id": "e5Whz24lUKCY",
        "outputId": "3adf35e0-7f53-43b3-95d0-21b65ba4da26"
      },
      "execution_count": 18,
      "outputs": [
        {
          "output_type": "stream",
          "name": "stdout",
          "text": [
            "Flattened logits: torch.Size([6, 50257])\n",
            "Flattened targets: torch.Size([6])\n"
          ]
        }
      ]
    },
    {
      "cell_type": "code",
      "source": [
        "loss = torch.nn.functional.cross_entropy(logits_flat, targets_flat)\n",
        "print(loss)"
      ],
      "metadata": {
        "colab": {
          "base_uri": "https://localhost:8080/"
        },
        "id": "_mXqs_r7UUZJ",
        "outputId": "e5b77da7-d378-432a-9602-1aa62359ff75"
      },
      "execution_count": 19,
      "outputs": [
        {
          "output_type": "stream",
          "name": "stdout",
          "text": [
            "tensor(10.9976)\n"
          ]
        }
      ]
    },
    {
      "cell_type": "code",
      "source": [
        "perplexity = torch.exp(loss)\n",
        "print(perplexity)"
      ],
      "metadata": {
        "colab": {
          "base_uri": "https://localhost:8080/"
        },
        "id": "IsxwQQhZVA40",
        "outputId": "849f71a5-1f65-4d3f-c7a4-34d0b548e9ce"
      },
      "execution_count": 20,
      "outputs": [
        {
          "output_type": "stream",
          "name": "stdout",
          "text": [
            "tensor(59731.5625)\n"
          ]
        }
      ]
    },
    {
      "cell_type": "code",
      "source": [
        "import os\n",
        "import urllib.request\n",
        "file_path= \"/content/the-verdict.txt\"\n",
        "url = \"https://raw.githubusercontent.com/rasbt/LLMs-from-scratch/main/ch02/01_main-chapter-code/the-verdict.txt\"\n",
        "if not os.path.exists(file_path):\n",
        "  with urllib.request.urlopen(url) as response:\n",
        "    text_data= response.read().decode('utf-8')\n",
        "  with open(file_path,\"w\",encoding='utf-8') as file:\n",
        "    file.write(text_data)\n",
        "else:\n",
        "  with open(file_path,\"r\",encoding=\"utf-8\") as file:\n",
        "    text_data= file.read()"
      ],
      "metadata": {
        "id": "9zCUWB1QVKF5"
      },
      "execution_count": 21,
      "outputs": []
    },
    {
      "cell_type": "code",
      "source": [
        "print(text_data[:99])"
      ],
      "metadata": {
        "colab": {
          "base_uri": "https://localhost:8080/"
        },
        "id": "izvdLTmUDupr",
        "outputId": "0eb19cb4-7374-4d29-a2d6-4c8488047b13"
      },
      "execution_count": 22,
      "outputs": [
        {
          "output_type": "stream",
          "name": "stdout",
          "text": [
            "I HAD always thought Jack Gisburn rather a cheap genius--though a good fellow enough--so it was no \n"
          ]
        }
      ]
    },
    {
      "cell_type": "code",
      "source": [
        "!pip install tiktoken"
      ],
      "metadata": {
        "colab": {
          "base_uri": "https://localhost:8080/"
        },
        "id": "KL4RqfmGDuwD",
        "outputId": "51232a8d-b35e-464b-e288-7d01cdf3a310"
      },
      "execution_count": 23,
      "outputs": [
        {
          "output_type": "stream",
          "name": "stdout",
          "text": [
            "Requirement already satisfied: tiktoken in /usr/local/lib/python3.11/dist-packages (0.9.0)\n",
            "Requirement already satisfied: regex>=2022.1.18 in /usr/local/lib/python3.11/dist-packages (from tiktoken) (2024.11.6)\n",
            "Requirement already satisfied: requests>=2.26.0 in /usr/local/lib/python3.11/dist-packages (from tiktoken) (2.32.3)\n",
            "Requirement already satisfied: charset-normalizer<4,>=2 in /usr/local/lib/python3.11/dist-packages (from requests>=2.26.0->tiktoken) (3.4.2)\n",
            "Requirement already satisfied: idna<4,>=2.5 in /usr/local/lib/python3.11/dist-packages (from requests>=2.26.0->tiktoken) (3.10)\n",
            "Requirement already satisfied: urllib3<3,>=1.21.1 in /usr/local/lib/python3.11/dist-packages (from requests>=2.26.0->tiktoken) (2.5.0)\n",
            "Requirement already satisfied: certifi>=2017.4.17 in /usr/local/lib/python3.11/dist-packages (from requests>=2.26.0->tiktoken) (2025.7.14)\n"
          ]
        }
      ]
    },
    {
      "cell_type": "code",
      "source": [
        "import tiktoken\n",
        "tokenizer= tiktoken.get_encoding(\"gpt2\")\n",
        "total_characters= len(text_data)\n",
        "total_tokens= len(tokenizer.encode(text_data))\n",
        "print(\"Characters:\",total_characters)\n",
        "print(\"Tokens:\",total_tokens)"
      ],
      "metadata": {
        "colab": {
          "base_uri": "https://localhost:8080/"
        },
        "id": "WWMidrFPDuss",
        "outputId": "af233c3a-56bf-47ce-a32f-e4c8ff26db1f"
      },
      "execution_count": 24,
      "outputs": [
        {
          "output_type": "stream",
          "name": "stdout",
          "text": [
            "Characters: 20479\n",
            "Tokens: 5145\n"
          ]
        }
      ]
    },
    {
      "cell_type": "code",
      "source": [
        "from torch.utils.data import Dataset,DataLoader\n",
        "import torch\n",
        "class GPTDatasetV1(Dataset):\n",
        "  def __init__(self,txt,tokenizer,max_length,stride):\n",
        "    self.input_ids=[]\n",
        "    self.target_ids=[]\n",
        "\n",
        "    token_ids= tokenizer.encode(txt,allowed_special={\"<|endoftext|>\"})\n",
        "    for i in range(0,len(token_ids)-max_length,stride):\n",
        "      input_chunk= token_ids[i:i+max_length]\n",
        "      target_chunk= token_ids[i+1:i+max_length+1]\n",
        "      self.input_ids.append(torch.tensor(input_chunk))\n",
        "      self.target_ids.append(torch.tensor(target_chunk))\n",
        "\n",
        "  def __len__(self):\n",
        "      return len(self.input_ids)\n",
        "\n",
        "  def __getitem__(self,idx):\n",
        "    return self.input_ids[idx],self.target_ids[idx]"
      ],
      "metadata": {
        "id": "yIANcl-6ExTx"
      },
      "execution_count": 25,
      "outputs": []
    },
    {
      "cell_type": "code",
      "source": [
        "def create_dataloader_v1(txt,batch_size=4,max_length=256,stride=128,shuffle=True,drop_last=True,num_workers=0):\n",
        "  tokenizer= tiktoken.get_encoding(\"gpt2\")\n",
        "  dataset= GPTDatasetV1(txt,tokenizer,max_length,stride)\n",
        "  dataloader= DataLoader(dataset,batch_size=batch_size,shuffle=shuffle,drop_last=drop_last,num_workers=num_workers)\n",
        "  return dataloader"
      ],
      "metadata": {
        "id": "phCBbM6eExjZ"
      },
      "execution_count": 26,
      "outputs": []
    },
    {
      "cell_type": "code",
      "source": [
        "GPT_CONFIG_124M = {\n",
        "    \"vocab_size\": 50257,   # Vocabulary size\n",
        "    \"context_length\": 256, # Shortened context length (orig: 1024)\n",
        "    \"emb_dim\": 768,        # Embedding dimension\n",
        "    \"n_heads\": 12,         # Number of attention heads\n",
        "    \"n_layers\": 12,        # Number of layers\n",
        "    \"drop_rate\": 0.1,      # Dropout rate\n",
        "    \"qkv_bias\": False      # Query-key-value bias\n",
        "}"
      ],
      "metadata": {
        "id": "SkgDh0jCExnQ"
      },
      "execution_count": 27,
      "outputs": []
    },
    {
      "cell_type": "code",
      "source": [
        "train_ratio= 0.90\n",
        "split_idx= int(train_ratio*len(text_data))\n",
        "train_data= text_data[:split_idx]\n",
        "val_data= text_data[split_idx:]\n",
        "train_loader= create_dataloader_v1(\n",
        "    train_data,\n",
        "    batch_size=2,\n",
        "    max_length=GPT_CONFIG_124M[\"context_length\"],\n",
        "    stride=GPT_CONFIG_124M[\"context_length\"]\n",
        ")\n",
        "val_loader= create_dataloader_v1(\n",
        "    val_data,\n",
        "    batch_size=2,\n",
        "    max_length=GPT_CONFIG_124M[\"context_length\"],\n",
        "    stride=GPT_CONFIG_124M[\"context_length\"]\n",
        ")"
      ],
      "metadata": {
        "id": "kpY3JSx5Exqx"
      },
      "execution_count": 28,
      "outputs": []
    },
    {
      "cell_type": "code",
      "source": [
        "if total_tokens * (train_ratio) < GPT_CONFIG_124M[\"context_length\"]:\n",
        "    print(\"Not enough tokens for the training loader. \"\n",
        "          \"Try to lower the `GPT_CONFIG_124M['context_length']` or \"\n",
        "          \"increase the `training_ratio`\")\n",
        "\n",
        "if total_tokens * (1-train_ratio) < GPT_CONFIG_124M[\"context_length\"]:\n",
        "    print(\"Not enough tokens for the validation loader. \"\n",
        "          \"Try to lower the `GPT_CONFIG_124M['context_length']` or \"\n",
        "          \"decrease the `training_ratio`\")"
      ],
      "metadata": {
        "id": "8Ejl5oSqHrLO"
      },
      "execution_count": 29,
      "outputs": []
    },
    {
      "cell_type": "code",
      "source": [
        "print(\"Train Loader:\")\n",
        "for x,y in train_loader:\n",
        "  print(x.shape,y.shape)\n",
        "\n",
        "print(\"\\nValidation Loader:\")\n",
        "for x,y in val_loader:\n",
        "  print(x.shape,y.shape)\n",
        "\n",
        "print(len(train_loader))\n",
        "print(len(val_loader))"
      ],
      "metadata": {
        "colab": {
          "base_uri": "https://localhost:8080/"
        },
        "id": "DVVIWohaHVwT",
        "outputId": "637e4836-64c0-48a2-d7b4-cc736b49c8b0"
      },
      "execution_count": 30,
      "outputs": [
        {
          "output_type": "stream",
          "name": "stdout",
          "text": [
            "Train Loader:\n",
            "torch.Size([2, 256]) torch.Size([2, 256])\n",
            "torch.Size([2, 256]) torch.Size([2, 256])\n",
            "torch.Size([2, 256]) torch.Size([2, 256])\n",
            "torch.Size([2, 256]) torch.Size([2, 256])\n",
            "torch.Size([2, 256]) torch.Size([2, 256])\n",
            "torch.Size([2, 256]) torch.Size([2, 256])\n",
            "torch.Size([2, 256]) torch.Size([2, 256])\n",
            "torch.Size([2, 256]) torch.Size([2, 256])\n",
            "torch.Size([2, 256]) torch.Size([2, 256])\n",
            "\n",
            "Validation Loader:\n",
            "torch.Size([2, 256]) torch.Size([2, 256])\n",
            "9\n",
            "1\n"
          ]
        }
      ]
    },
    {
      "cell_type": "code",
      "source": [
        "train_tokens=0\n",
        "for input_batch, target_batch in train_loader:\n",
        "  train_tokens+=input_batch.numel()\n",
        "\n",
        "val_tokens=0\n",
        "for input_batch,target_batch in val_loader:\n",
        "  val_tokens+=input_batch.numel()\n",
        "\n",
        "print(\"Training Tokens:\",train_tokens)\n",
        "print(\"Validation Tokens:\",val_tokens)\n",
        "print(\"All Tokens:\",train_tokens+val_tokens)"
      ],
      "metadata": {
        "colab": {
          "base_uri": "https://localhost:8080/"
        },
        "id": "wmHB_iK8HWPa",
        "outputId": "308cc998-5714-4b15-de7d-dafb13854542"
      },
      "execution_count": 31,
      "outputs": [
        {
          "output_type": "stream",
          "name": "stdout",
          "text": [
            "Training Tokens: 4608\n",
            "Validation Tokens: 512\n",
            "All Tokens: 5120\n"
          ]
        }
      ]
    },
    {
      "cell_type": "code",
      "source": [
        "model=GPTModel(GPT_CONFIG_124M)\n",
        "model.eval()"
      ],
      "metadata": {
        "colab": {
          "base_uri": "https://localhost:8080/"
        },
        "id": "3TdTlO7wK9Op",
        "outputId": "227cc51f-f389-46cd-f830-c972607946ca"
      },
      "execution_count": 32,
      "outputs": [
        {
          "output_type": "execute_result",
          "data": {
            "text/plain": [
              "GPTModel(\n",
              "  (tok_emb): Embedding(50257, 768)\n",
              "  (pos_emb): Embedding(256, 768)\n",
              "  (drop_emb): Dropout(p=0.1, inplace=False)\n",
              "  (trf_blocks): Sequential(\n",
              "    (0): TransformerBlock(\n",
              "      (att): MultiHeadAttention(\n",
              "        (W_query): Linear(in_features=768, out_features=768, bias=False)\n",
              "        (W_key): Linear(in_features=768, out_features=768, bias=False)\n",
              "        (W_value): Linear(in_features=768, out_features=768, bias=False)\n",
              "        (out_proj): Linear(in_features=768, out_features=768, bias=True)\n",
              "        (dropout): Dropout(p=0.1, inplace=False)\n",
              "      )\n",
              "      (ff): FeedForward(\n",
              "        (layers): Sequential(\n",
              "          (0): Linear(in_features=768, out_features=3072, bias=True)\n",
              "          (1): GELU()\n",
              "          (2): Linear(in_features=3072, out_features=768, bias=True)\n",
              "        )\n",
              "      )\n",
              "      (norm1): LayerNorm()\n",
              "      (norm2): LayerNorm()\n",
              "      (drop_shortcut): Dropout(p=0.1, inplace=False)\n",
              "    )\n",
              "    (1): TransformerBlock(\n",
              "      (att): MultiHeadAttention(\n",
              "        (W_query): Linear(in_features=768, out_features=768, bias=False)\n",
              "        (W_key): Linear(in_features=768, out_features=768, bias=False)\n",
              "        (W_value): Linear(in_features=768, out_features=768, bias=False)\n",
              "        (out_proj): Linear(in_features=768, out_features=768, bias=True)\n",
              "        (dropout): Dropout(p=0.1, inplace=False)\n",
              "      )\n",
              "      (ff): FeedForward(\n",
              "        (layers): Sequential(\n",
              "          (0): Linear(in_features=768, out_features=3072, bias=True)\n",
              "          (1): GELU()\n",
              "          (2): Linear(in_features=3072, out_features=768, bias=True)\n",
              "        )\n",
              "      )\n",
              "      (norm1): LayerNorm()\n",
              "      (norm2): LayerNorm()\n",
              "      (drop_shortcut): Dropout(p=0.1, inplace=False)\n",
              "    )\n",
              "    (2): TransformerBlock(\n",
              "      (att): MultiHeadAttention(\n",
              "        (W_query): Linear(in_features=768, out_features=768, bias=False)\n",
              "        (W_key): Linear(in_features=768, out_features=768, bias=False)\n",
              "        (W_value): Linear(in_features=768, out_features=768, bias=False)\n",
              "        (out_proj): Linear(in_features=768, out_features=768, bias=True)\n",
              "        (dropout): Dropout(p=0.1, inplace=False)\n",
              "      )\n",
              "      (ff): FeedForward(\n",
              "        (layers): Sequential(\n",
              "          (0): Linear(in_features=768, out_features=3072, bias=True)\n",
              "          (1): GELU()\n",
              "          (2): Linear(in_features=3072, out_features=768, bias=True)\n",
              "        )\n",
              "      )\n",
              "      (norm1): LayerNorm()\n",
              "      (norm2): LayerNorm()\n",
              "      (drop_shortcut): Dropout(p=0.1, inplace=False)\n",
              "    )\n",
              "    (3): TransformerBlock(\n",
              "      (att): MultiHeadAttention(\n",
              "        (W_query): Linear(in_features=768, out_features=768, bias=False)\n",
              "        (W_key): Linear(in_features=768, out_features=768, bias=False)\n",
              "        (W_value): Linear(in_features=768, out_features=768, bias=False)\n",
              "        (out_proj): Linear(in_features=768, out_features=768, bias=True)\n",
              "        (dropout): Dropout(p=0.1, inplace=False)\n",
              "      )\n",
              "      (ff): FeedForward(\n",
              "        (layers): Sequential(\n",
              "          (0): Linear(in_features=768, out_features=3072, bias=True)\n",
              "          (1): GELU()\n",
              "          (2): Linear(in_features=3072, out_features=768, bias=True)\n",
              "        )\n",
              "      )\n",
              "      (norm1): LayerNorm()\n",
              "      (norm2): LayerNorm()\n",
              "      (drop_shortcut): Dropout(p=0.1, inplace=False)\n",
              "    )\n",
              "    (4): TransformerBlock(\n",
              "      (att): MultiHeadAttention(\n",
              "        (W_query): Linear(in_features=768, out_features=768, bias=False)\n",
              "        (W_key): Linear(in_features=768, out_features=768, bias=False)\n",
              "        (W_value): Linear(in_features=768, out_features=768, bias=False)\n",
              "        (out_proj): Linear(in_features=768, out_features=768, bias=True)\n",
              "        (dropout): Dropout(p=0.1, inplace=False)\n",
              "      )\n",
              "      (ff): FeedForward(\n",
              "        (layers): Sequential(\n",
              "          (0): Linear(in_features=768, out_features=3072, bias=True)\n",
              "          (1): GELU()\n",
              "          (2): Linear(in_features=3072, out_features=768, bias=True)\n",
              "        )\n",
              "      )\n",
              "      (norm1): LayerNorm()\n",
              "      (norm2): LayerNorm()\n",
              "      (drop_shortcut): Dropout(p=0.1, inplace=False)\n",
              "    )\n",
              "    (5): TransformerBlock(\n",
              "      (att): MultiHeadAttention(\n",
              "        (W_query): Linear(in_features=768, out_features=768, bias=False)\n",
              "        (W_key): Linear(in_features=768, out_features=768, bias=False)\n",
              "        (W_value): Linear(in_features=768, out_features=768, bias=False)\n",
              "        (out_proj): Linear(in_features=768, out_features=768, bias=True)\n",
              "        (dropout): Dropout(p=0.1, inplace=False)\n",
              "      )\n",
              "      (ff): FeedForward(\n",
              "        (layers): Sequential(\n",
              "          (0): Linear(in_features=768, out_features=3072, bias=True)\n",
              "          (1): GELU()\n",
              "          (2): Linear(in_features=3072, out_features=768, bias=True)\n",
              "        )\n",
              "      )\n",
              "      (norm1): LayerNorm()\n",
              "      (norm2): LayerNorm()\n",
              "      (drop_shortcut): Dropout(p=0.1, inplace=False)\n",
              "    )\n",
              "    (6): TransformerBlock(\n",
              "      (att): MultiHeadAttention(\n",
              "        (W_query): Linear(in_features=768, out_features=768, bias=False)\n",
              "        (W_key): Linear(in_features=768, out_features=768, bias=False)\n",
              "        (W_value): Linear(in_features=768, out_features=768, bias=False)\n",
              "        (out_proj): Linear(in_features=768, out_features=768, bias=True)\n",
              "        (dropout): Dropout(p=0.1, inplace=False)\n",
              "      )\n",
              "      (ff): FeedForward(\n",
              "        (layers): Sequential(\n",
              "          (0): Linear(in_features=768, out_features=3072, bias=True)\n",
              "          (1): GELU()\n",
              "          (2): Linear(in_features=3072, out_features=768, bias=True)\n",
              "        )\n",
              "      )\n",
              "      (norm1): LayerNorm()\n",
              "      (norm2): LayerNorm()\n",
              "      (drop_shortcut): Dropout(p=0.1, inplace=False)\n",
              "    )\n",
              "    (7): TransformerBlock(\n",
              "      (att): MultiHeadAttention(\n",
              "        (W_query): Linear(in_features=768, out_features=768, bias=False)\n",
              "        (W_key): Linear(in_features=768, out_features=768, bias=False)\n",
              "        (W_value): Linear(in_features=768, out_features=768, bias=False)\n",
              "        (out_proj): Linear(in_features=768, out_features=768, bias=True)\n",
              "        (dropout): Dropout(p=0.1, inplace=False)\n",
              "      )\n",
              "      (ff): FeedForward(\n",
              "        (layers): Sequential(\n",
              "          (0): Linear(in_features=768, out_features=3072, bias=True)\n",
              "          (1): GELU()\n",
              "          (2): Linear(in_features=3072, out_features=768, bias=True)\n",
              "        )\n",
              "      )\n",
              "      (norm1): LayerNorm()\n",
              "      (norm2): LayerNorm()\n",
              "      (drop_shortcut): Dropout(p=0.1, inplace=False)\n",
              "    )\n",
              "    (8): TransformerBlock(\n",
              "      (att): MultiHeadAttention(\n",
              "        (W_query): Linear(in_features=768, out_features=768, bias=False)\n",
              "        (W_key): Linear(in_features=768, out_features=768, bias=False)\n",
              "        (W_value): Linear(in_features=768, out_features=768, bias=False)\n",
              "        (out_proj): Linear(in_features=768, out_features=768, bias=True)\n",
              "        (dropout): Dropout(p=0.1, inplace=False)\n",
              "      )\n",
              "      (ff): FeedForward(\n",
              "        (layers): Sequential(\n",
              "          (0): Linear(in_features=768, out_features=3072, bias=True)\n",
              "          (1): GELU()\n",
              "          (2): Linear(in_features=3072, out_features=768, bias=True)\n",
              "        )\n",
              "      )\n",
              "      (norm1): LayerNorm()\n",
              "      (norm2): LayerNorm()\n",
              "      (drop_shortcut): Dropout(p=0.1, inplace=False)\n",
              "    )\n",
              "    (9): TransformerBlock(\n",
              "      (att): MultiHeadAttention(\n",
              "        (W_query): Linear(in_features=768, out_features=768, bias=False)\n",
              "        (W_key): Linear(in_features=768, out_features=768, bias=False)\n",
              "        (W_value): Linear(in_features=768, out_features=768, bias=False)\n",
              "        (out_proj): Linear(in_features=768, out_features=768, bias=True)\n",
              "        (dropout): Dropout(p=0.1, inplace=False)\n",
              "      )\n",
              "      (ff): FeedForward(\n",
              "        (layers): Sequential(\n",
              "          (0): Linear(in_features=768, out_features=3072, bias=True)\n",
              "          (1): GELU()\n",
              "          (2): Linear(in_features=3072, out_features=768, bias=True)\n",
              "        )\n",
              "      )\n",
              "      (norm1): LayerNorm()\n",
              "      (norm2): LayerNorm()\n",
              "      (drop_shortcut): Dropout(p=0.1, inplace=False)\n",
              "    )\n",
              "    (10): TransformerBlock(\n",
              "      (att): MultiHeadAttention(\n",
              "        (W_query): Linear(in_features=768, out_features=768, bias=False)\n",
              "        (W_key): Linear(in_features=768, out_features=768, bias=False)\n",
              "        (W_value): Linear(in_features=768, out_features=768, bias=False)\n",
              "        (out_proj): Linear(in_features=768, out_features=768, bias=True)\n",
              "        (dropout): Dropout(p=0.1, inplace=False)\n",
              "      )\n",
              "      (ff): FeedForward(\n",
              "        (layers): Sequential(\n",
              "          (0): Linear(in_features=768, out_features=3072, bias=True)\n",
              "          (1): GELU()\n",
              "          (2): Linear(in_features=3072, out_features=768, bias=True)\n",
              "        )\n",
              "      )\n",
              "      (norm1): LayerNorm()\n",
              "      (norm2): LayerNorm()\n",
              "      (drop_shortcut): Dropout(p=0.1, inplace=False)\n",
              "    )\n",
              "    (11): TransformerBlock(\n",
              "      (att): MultiHeadAttention(\n",
              "        (W_query): Linear(in_features=768, out_features=768, bias=False)\n",
              "        (W_key): Linear(in_features=768, out_features=768, bias=False)\n",
              "        (W_value): Linear(in_features=768, out_features=768, bias=False)\n",
              "        (out_proj): Linear(in_features=768, out_features=768, bias=True)\n",
              "        (dropout): Dropout(p=0.1, inplace=False)\n",
              "      )\n",
              "      (ff): FeedForward(\n",
              "        (layers): Sequential(\n",
              "          (0): Linear(in_features=768, out_features=3072, bias=True)\n",
              "          (1): GELU()\n",
              "          (2): Linear(in_features=3072, out_features=768, bias=True)\n",
              "        )\n",
              "      )\n",
              "      (norm1): LayerNorm()\n",
              "      (norm2): LayerNorm()\n",
              "      (drop_shortcut): Dropout(p=0.1, inplace=False)\n",
              "    )\n",
              "  )\n",
              "  (final_norm): LayerNorm()\n",
              "  (out_head): Linear(in_features=768, out_features=50257, bias=False)\n",
              ")"
            ]
          },
          "metadata": {},
          "execution_count": 32
        }
      ]
    },
    {
      "cell_type": "code",
      "source": [
        "def calc_loss_batch(input_batch,target_batch,model,device):\n",
        "  input_batch,target_batch= input_batch.to(device), target_batch.to(device)\n",
        "  logits= model(input_batch)\n",
        "  loss= torch.nn.functional.cross_entropy(logits.flatten(0,1),target_batch.flatten())\n",
        "  return loss #Calculates the cross-entropy loss for one batch of data.\n",
        "\n",
        "def calc_loss_loader(data_loader,model,device,num_batches=None):\n",
        "  #Calculates the average loss over multiple batches from a DataLoader.\n",
        "  total_loss=0\n",
        "  if len(data_loader)==0:\n",
        "    return float(\"nan\")\n",
        "  elif num_batches is None:\n",
        "    num_batches= len(data_loader)\n",
        "  else:\n",
        "    num_batches= min(len(data_loader),num_batches)\n",
        "  for i,(input_batch,target_batch) in enumerate(data_loader):\n",
        "    if i<num_batches:\n",
        "      loss= calc_loss_batch(input_batch,target_batch,model,device)\n",
        "      total_loss+=loss.item()\n",
        "    else:\n",
        "      break\n",
        "  return total_loss/num_batches"
      ],
      "metadata": {
        "id": "UfqxhXrYK97L"
      },
      "execution_count": 33,
      "outputs": []
    },
    {
      "cell_type": "code",
      "source": [
        "device= torch.device(\"cpu\")\n",
        "model.to(device)\n",
        "with torch.no_grad():\n",
        "  train_loss= calc_loss_loader(train_loader,model,device)\n",
        "  val_loss= calc_loss_loader(val_loader,model,device)\n",
        "\n",
        "print(\"Training loss:\",train_loss)\n",
        "print(\"Validation Loss:\",val_loss)"
      ],
      "metadata": {
        "colab": {
          "base_uri": "https://localhost:8080/"
        },
        "id": "9qr7xQEhwnzf",
        "outputId": "f9d828b4-df2e-4275-8303-cf47b1c00410"
      },
      "execution_count": 34,
      "outputs": [
        {
          "output_type": "stream",
          "name": "stdout",
          "text": [
            "Training loss: 10.998977767096626\n",
            "Validation Loss: 10.983667373657227\n"
          ]
        }
      ]
    },
    {
      "cell_type": "code",
      "source": [
        "def evaluate_model(model,train_loader,val_loader,device,eval_iter):\n",
        "  model.eval()\n",
        "  with torch.no_grad():\n",
        "    train_loss= calc_loss_loader(train_loader,model,device,num_batches=eval_iter)\n",
        "    val_loss= calc_loss_loader(val_loader,model,device,num_batches=eval_iter)\n",
        "  model.train()\n",
        "  return train_loss, val_loss"
      ],
      "metadata": {
        "id": "E3_jQwyWz9jo"
      },
      "execution_count": 35,
      "outputs": []
    },
    {
      "cell_type": "code",
      "source": [
        "def generate_and_print_sample(model,tokenizer,device,start_context):\n",
        "  model.eval()\n",
        "  context_size= model.pos_emb.weight.shape[0]\n",
        "  encoded= text_to_token_ids(start_context,tokenizer).to(device)\n",
        "  with torch.no_grad():\n",
        "    token_ids= generate_text_simple(model,idx=encoded,max_new_tokens=50,context_size=context_size)\n",
        "  decoded_text= token_ids_to_text(token_ids,tokenizer)\n",
        "  print(decoded_text.replace(\"\\n\",\" \"))\n",
        "  model.train()"
      ],
      "metadata": {
        "id": "LUJImRur1oiH"
      },
      "execution_count": 36,
      "outputs": []
    },
    {
      "cell_type": "code",
      "source": [
        "def train_model_simple(model,train_loader,val_loader,optimizer,device,num_epochs,eval_freq,eval_iter,start_context,tokenizer):\n",
        "  train_losses, val_losses,track_tokens_seen=[],[],[]\n",
        "  tokens_seen,global_step=0,-1\n",
        "  for epoch in range(num_epochs):\n",
        "    model.train()\n",
        "    for input_batch,target_batch in train_loader:\n",
        "      optimizer.zero_grad()\n",
        "      loss= calc_loss_batch(input_batch,target_batch,model,device)\n",
        "      loss.backward()\n",
        "      optimizer.step()\n",
        "      tokens_seen+=input_batch.numel()\n",
        "      global_step+=1\n",
        "\n",
        "      if global_step % eval_freq==0:\n",
        "        train_loss,val_loss= evaluate_model(model,train_loader,val_loader,device,eval_iter)\n",
        "        train_losses.append(train_loss)\n",
        "        val_losses.append(val_loss)\n",
        "        track_tokens_seen.append(tokens_seen)\n",
        "        print(f\"Ep {epoch+1} (Step{global_step}):\"\n",
        "        f\"Train Loss {train_loss:.3f}, Val Loss {val_loss:.3f}\"  )\n",
        "    generate_and_print_sample(model,tokenizer,device,start_context)\n",
        "  return train_losses, val_losses, track_tokens_seen"
      ],
      "metadata": {
        "id": "1HGiOKM8xnHF"
      },
      "execution_count": 37,
      "outputs": []
    },
    {
      "cell_type": "code",
      "source": [
        "print(device)"
      ],
      "metadata": {
        "colab": {
          "base_uri": "https://localhost:8080/"
        },
        "id": "nJlcBe7Ed2bJ",
        "outputId": "25f3aec5-e8a7-4e61-cf5a-2db533fa6892"
      },
      "execution_count": 38,
      "outputs": [
        {
          "output_type": "stream",
          "name": "stdout",
          "text": [
            "cpu\n"
          ]
        }
      ]
    },
    {
      "cell_type": "code",
      "source": [
        "import time\n",
        "start_time= time.time()\n",
        "model= GPTModel(GPT_CONFIG_124M)\n",
        "model.to(device)\n",
        "optimizer= torch.optim.AdamW(model.parameters(),lr=0.0004,weight_decay=0.1)\n",
        "num_epochs=10\n",
        "train_losses, val_losses, tokens_seen = train_model_simple(\n",
        "    model, train_loader, val_loader, optimizer, device,\n",
        "    num_epochs=num_epochs, eval_freq=5, eval_iter=5,\n",
        "    start_context=\"Every effort moves you\", tokenizer=tokenizer\n",
        ")\n",
        "end_time = time.time()\n",
        "execution_time_minutes = (end_time - start_time) / 60\n",
        "print(f\"Training completed in {execution_time_minutes:.2f} minutes.\")"
      ],
      "metadata": {
        "colab": {
          "base_uri": "https://localhost:8080/"
        },
        "id": "uSg5XFss3VyO",
        "outputId": "207b6ce1-bdb5-46c5-ce57-e9a1a79f9cc7"
      },
      "execution_count": 39,
      "outputs": [
        {
          "output_type": "stream",
          "name": "stdout",
          "text": [
            "Ep 1 (Step0):Train Loss 9.875, Val Loss 10.051\n",
            "Ep 1 (Step5):Train Loss 8.108, Val Loss 8.353\n",
            "Every effort moves you,,,,, the,,,,,,,,,,,,,,,,,,,,,,, the, the,,,,,,, the,,,,,,,,,,\n",
            "Ep 2 (Step10):Train Loss 6.816, Val Loss 7.078\n",
            "Ep 2 (Step15):Train Loss 6.094, Val Loss 6.582\n",
            "Every effort moves you, the the a a the\". \" a the the\", the the\" a a the\"\"\" a the the the\"\", the\" a the a the\". \"\", the\" a the a a a\n",
            "Ep 3 (Step20):Train Loss 5.567, Val Loss 6.534\n",
            "Ep 3 (Step25):Train Loss 5.648, Val Loss 6.454\n",
            "Every effort moves you, I had the I had of the I had the I had the I had the I had I, I had I had the I, and I, I had the I, I had the I had the-- I had the the I, I\n",
            "Ep 4 (Step30):Train Loss 5.081, Val Loss 6.399\n",
            "Ep 4 (Step35):Train Loss 4.404, Val Loss 6.374\n",
            "Every effort moves you know, and. \", and I had the first the to have to the to my the to have to have. Gisburn, and I had the to the to the to the he had the to the first to the he had I\n",
            "Ep 5 (Step40):Train Loss 3.980, Val Loss 6.332\n",
            "Every effort moves you know he was his pictures--and the first he had been the the last in the house.\"      \"Oh, and I saidburn's open count, I had the first time the donkey. \"Oh, I said\n",
            "Ep 6 (Step45):Train Loss 3.606, Val Loss 6.244\n",
            "Ep 6 (Step50):Train Loss 3.085, Val Loss 6.228\n",
            "Every effort moves you know,\" was not-stream stroke.     \"I turned back to my work, and went on groping and Mrs.                     \n",
            "Ep 7 (Step55):Train Loss 2.312, Val Loss 6.282\n",
            "Ep 7 (Step60):Train Loss 2.171, Val Loss 6.310\n",
            "Every effort moves you of Jack Gisburn--and I had been his pictures--his last word. Gisburn's an!  \" to see a little, on a later day, as a little his own sex his pictures--and he was with a\n",
            "Ep 8 (Step65):Train Loss 1.447, Val Loss 6.370\n",
            "Ep 8 (Step70):Train Loss 1.063, Val Loss 6.427\n",
            "Every effort moves you know,\" was not that my hostess was \"interesting\": on that point I had been picture--I looked up, I felt to see a smile behind his close grayish beard--as if he had the donkey.      \n",
            "Ep 9 (Step75):Train Loss 0.855, Val Loss 6.479\n",
            "Ep 9 (Step80):Train Loss 0.561, Val Loss 6.605\n",
            "Every effort moves you?\" \"I looked up at the first time the irony. Gisburn's an--and by me!\"  \"Oh, in the moment--as Jack himself, I had again run over from Monte Carlo; and Mrs. Gis\n",
            "Ep 10 (Step85):Train Loss 0.415, Val Loss 6.715\n",
            "Every effort moves you?\"  \"Yes--quite insensible to the irony. She wanted him vindicated--and by me!\"    \"Oh, and back the window-curtains, and I turned, when Stroud laid in the first\n",
            "Training completed in 14.70 minutes.\n"
          ]
        }
      ]
    },
    {
      "cell_type": "code",
      "source": [
        "tokenizer= tiktoken.get_encoding(\"gpt2\")\n",
        "token_ids= generate_text_simple(\n",
        "    model=model,\n",
        "    idx= text_to_token_ids(\"Every effort moves you\",tokenizer),\n",
        "    max_new_tokens=25,\n",
        "    context_size=GPT_CONFIG_124M[\"context_length\"]\n",
        ")\n",
        "print(\"Output text:\\n\",token_ids_to_text(token_ids,tokenizer))"
      ],
      "metadata": {
        "id": "za2YvsLL7wsk",
        "colab": {
          "base_uri": "https://localhost:8080/"
        },
        "outputId": "842db35a-2c67-483f-cd08-3c0dbb836d99"
      },
      "execution_count": 40,
      "outputs": [
        {
          "output_type": "stream",
          "name": "stdout",
          "text": [
            "Output text:\n",
            " Every effort moves you?\"\n",
            "\n",
            "\"Yes--quite insensible to the irony. She wanted him vindicated--and by me!\"\n",
            "\n",
            "\n"
          ]
        }
      ]
    },
    {
      "cell_type": "code",
      "source": [
        "vocab = {\n",
        "    \"closer\": 0,\n",
        "    \"every\": 1,\n",
        "    \"effort\": 2,\n",
        "    \"forward\": 3,\n",
        "    \"inches\": 4,\n",
        "    \"moves\": 5,\n",
        "    \"pizza\": 6,\n",
        "    \"toward\": 7,\n",
        "    \"you\": 8,\n",
        "}\n",
        "\n",
        "inverse_vocab = {v: k for k, v in vocab.items()}"
      ],
      "metadata": {
        "id": "bXHRBIfEcKlL"
      },
      "execution_count": 41,
      "outputs": []
    },
    {
      "cell_type": "code",
      "source": [
        "next_token_logits = torch.tensor(\n",
        "[4.51, 0.89, -1.90, 6.75, 1.63, -1.62, -1.89, 6.28, 1.79]\n",
        ")\n",
        "next_token_logits2 = next_token_logits/0.1 #sharpness\n",
        "next_token_logits3 = next_token_logits/5 #uniform distribution"
      ],
      "metadata": {
        "id": "WIHIEk_eiKcE"
      },
      "execution_count": 42,
      "outputs": []
    },
    {
      "cell_type": "code",
      "source": [
        "probas = torch.softmax(next_token_logits, dim=0)\n",
        "print(probas)\n",
        "probas2 = torch.softmax(next_token_logits2, dim=0)\n",
        "print(probas2)\n",
        "probas3 = torch.softmax(next_token_logits3, dim=0)\n",
        "print(probas3)"
      ],
      "metadata": {
        "colab": {
          "base_uri": "https://localhost:8080/"
        },
        "id": "jSVo_2lCiKe0",
        "outputId": "8cfb831e-ea0c-4972-8a00-c249ab0d94b8"
      },
      "execution_count": 43,
      "outputs": [
        {
          "output_type": "stream",
          "name": "stdout",
          "text": [
            "tensor([6.0907e-02, 1.6313e-03, 1.0019e-04, 5.7212e-01, 3.4190e-03, 1.3257e-04,\n",
            "        1.0120e-04, 3.5758e-01, 4.0122e-03])\n",
            "tensor([1.8530e-10, 3.5189e-26, 2.6890e-38, 9.9099e-01, 5.7569e-23, 4.4220e-37,\n",
            "        2.9718e-38, 9.0133e-03, 2.8514e-22])\n",
            "tensor([0.1546, 0.0750, 0.0429, 0.2421, 0.0869, 0.0454, 0.0430, 0.2203, 0.0898])\n"
          ]
        }
      ]
    },
    {
      "cell_type": "code",
      "source": [
        "next_token_id=torch.argmax(probas).item()\n",
        "print(next_token_id)\n",
        "print(inverse_vocab[next_token_id])"
      ],
      "metadata": {
        "colab": {
          "base_uri": "https://localhost:8080/"
        },
        "id": "Cw5wCjzZiKhV",
        "outputId": "3b1e3cf6-4a71-4568-b4f4-15b3647e3bcf"
      },
      "execution_count": 44,
      "outputs": [
        {
          "output_type": "stream",
          "name": "stdout",
          "text": [
            "3\n",
            "forward\n"
          ]
        }
      ]
    },
    {
      "cell_type": "code",
      "source": [
        "def print_sampled_tokens(probas):\n",
        "  sample= [torch.multinomial(probas,num_samples=1).item() for i in range(1000)]\n",
        "  sample_ids= torch.bincount(torch.tensor(sample))\n",
        "  for i, freq in enumerate(sample_ids):\n",
        "    print(f\"{freq} x {inverse_vocab[i]}\")\n",
        "\n",
        "print_sampled_tokens(probas)\n",
        "print()\n",
        "print_sampled_tokens(probas2)\n",
        "print()\n",
        "print_sampled_tokens(probas3)"
      ],
      "metadata": {
        "colab": {
          "base_uri": "https://localhost:8080/"
        },
        "id": "0gFbWy02iKkV",
        "outputId": "3b7aff53-87ef-49cb-fbba-2321d8fe4569"
      },
      "execution_count": 45,
      "outputs": [
        {
          "output_type": "stream",
          "name": "stdout",
          "text": [
            "45 x closer\n",
            "2 x every\n",
            "0 x effort\n",
            "582 x forward\n",
            "5 x inches\n",
            "1 x moves\n",
            "1 x pizza\n",
            "363 x toward\n",
            "1 x you\n",
            "\n",
            "0 x closer\n",
            "0 x every\n",
            "0 x effort\n",
            "991 x forward\n",
            "0 x inches\n",
            "0 x moves\n",
            "0 x pizza\n",
            "9 x toward\n",
            "\n",
            "148 x closer\n",
            "68 x every\n",
            "41 x effort\n",
            "232 x forward\n",
            "92 x inches\n",
            "42 x moves\n",
            "47 x pizza\n",
            "239 x toward\n",
            "91 x you\n"
          ]
        }
      ]
    },
    {
      "cell_type": "code",
      "source": [
        "def softmax_with_temperature(logits,temperature):\n",
        "  scaled_logits=logits/temperature\n",
        "  return torch.softmax(scaled_logits,dim=0)\n",
        "\n",
        "temperatures = [1, 0.1, 5]  # Original, higher confidence, and lower confidence\n",
        "scaled_probas= [softmax_with_temperature(next_token_logits,T) for T in temperatures]"
      ],
      "metadata": {
        "id": "gc9S9kFuiKn2"
      },
      "execution_count": 46,
      "outputs": []
    },
    {
      "cell_type": "code",
      "source": [
        "import matplotlib.pyplot as plt\n",
        "x= torch.arange(len(vocab))\n",
        "bar_width=0.15\n",
        "fig,ax= plt.subplots(figsize=(5,3))\n",
        "for i,T in enumerate(temperatures):\n",
        "  rects= ax.bar(x+i*bar_width,scaled_probas[i],bar_width,label=f'Temperature={T}')\n",
        "ax.set_ylabel('Probability')\n",
        "ax.set_xticks(x)\n",
        "ax.set_xticklabels(vocab.keys(),rotation=90)\n",
        "ax.legend()\n",
        "plt.tight_layout()\n",
        "plt.show()"
      ],
      "metadata": {
        "colab": {
          "base_uri": "https://localhost:8080/",
          "height": 307
        },
        "id": "gd5U6XAAoU9g",
        "outputId": "e8f78fa7-6c04-40a8-9edc-9737ac2ee92c"
      },
      "execution_count": 47,
      "outputs": [
        {
          "output_type": "display_data",
          "data": {
            "text/plain": [
              "<Figure size 500x300 with 1 Axes>"
            ],
            "image/png": "[encoded data removed]"
          },
          "metadata": {}
        }
      ]
    },
    {
      "cell_type": "code",
      "source": [
        "#top k sampling\n",
        "top_k=3\n",
        "top_logits, top_pos= torch.topk(next_token_logits,top_k)\n",
        "print(top_logits)\n",
        "print(top_pos)"
      ],
      "metadata": {
        "colab": {
          "base_uri": "https://localhost:8080/"
        },
        "id": "l8-VyRgzoVF9",
        "outputId": "c9f81645-93b6-4671-fabc-7b1a46fa03c3"
      },
      "execution_count": 48,
      "outputs": [
        {
          "output_type": "stream",
          "name": "stdout",
          "text": [
            "tensor([6.7500, 6.2800, 4.5100])\n",
            "tensor([3, 7, 0])\n"
          ]
        }
      ]
    },
    {
      "cell_type": "code",
      "source": [
        "new_logits= torch.where(\n",
        "    condition= next_token_logits< top_logits[-1],\n",
        "    input= torch.tensor(float(\"-inf\")),\n",
        "    other=next_token_logits\n",
        ")\n",
        "print(new_logits)"
      ],
      "metadata": {
        "colab": {
          "base_uri": "https://localhost:8080/"
        },
        "id": "6Ni9qf3PoVJg",
        "outputId": "e1a4dc19-0b1b-4e5c-c5a7-979aafab26f3"
      },
      "execution_count": 49,
      "outputs": [
        {
          "output_type": "stream",
          "name": "stdout",
          "text": [
            "tensor([4.5100,   -inf,   -inf, 6.7500,   -inf,   -inf,   -inf, 6.2800,   -inf])\n"
          ]
        }
      ]
    },
    {
      "cell_type": "code",
      "source": [
        "topk_probas= torch.softmax(new_logits,dim=0)\n",
        "print(topk_probas)"
      ],
      "metadata": {
        "colab": {
          "base_uri": "https://localhost:8080/"
        },
        "id": "L4OdcyjAvi89",
        "outputId": "004d59a1-00c5-4eec-8753-cfd68365f3d5"
      },
      "execution_count": 50,
      "outputs": [
        {
          "output_type": "stream",
          "name": "stdout",
          "text": [
            "tensor([0.0615, 0.0000, 0.0000, 0.5775, 0.0000, 0.0000, 0.0000, 0.3610, 0.0000])\n"
          ]
        }
      ]
    },
    {
      "cell_type": "code",
      "source": [
        "#merge temperature scaling and top-k sampling\n",
        "def generate(model, idx, max_new_tokens, context_size, temperature=0.0, top_k=None, eos_id=None):\n",
        "\n",
        "    # For-loop is the same as before: Get logits, and only focus on last time step\n",
        "    for _ in range(max_new_tokens):\n",
        "        idx_cond = idx[:, -context_size:]\n",
        "        with torch.no_grad():\n",
        "            logits = model(idx_cond)\n",
        "        logits = logits[:, -1, :]\n",
        "\n",
        "        # New: Filter logits with top_k sampling\n",
        "        if top_k is not None:\n",
        "            # Keep only top_k values\n",
        "            top_logits, _ = torch.topk(logits, top_k)\n",
        "            min_val = top_logits[:, -1]\n",
        "            logits = torch.where(logits < min_val, torch.tensor(float(\"-inf\")).to(logits.device), logits)\n",
        "\n",
        "        # New: Apply temperature scaling\n",
        "        if temperature > 0.0:\n",
        "            logits = logits / temperature\n",
        "\n",
        "            # Apply softmax to get probabilities\n",
        "            probs = torch.softmax(logits, dim=-1)  # (batch_size, context_len)\n",
        "\n",
        "            # Sample from the distribution\n",
        "            idx_next = torch.multinomial(probs, num_samples=1)  # (batch_size, 1)\n",
        "\n",
        "        # Otherwise same as before: get idx of the vocab entry with the highest logits value\n",
        "        else:\n",
        "            idx_next = torch.argmax(logits, dim=-1, keepdim=True)  # (batch_size, 1)\n",
        "\n",
        "        if idx_next == eos_id:  # Stop generating early if end-of-sequence token is encountered and eos_id is specified\n",
        "            break\n",
        "\n",
        "        # Same as before: append sampled index to the running sequence\n",
        "        idx = torch.cat((idx, idx_next), dim=1)  # (batch_size, num_tokens+1)\n",
        "\n",
        "    return idx"
      ],
      "metadata": {
        "id": "uve1aQ1EvjVz"
      },
      "execution_count": 56,
      "outputs": []
    },
    {
      "cell_type": "code",
      "source": [
        "token_ids = generate(\n",
        "    model=model,\n",
        "    idx=text_to_token_ids(\"Every effort moves you\", tokenizer),\n",
        "    max_new_tokens=15,\n",
        "    context_size=GPT_CONFIG_124M[\"context_length\"],\n",
        "    top_k=25,\n",
        "    temperature=1.4\n",
        ")\n",
        "\n",
        "print(\"Output text:\\n\", token_ids_to_text(token_ids, tokenizer))"
      ],
      "metadata": {
        "id": "X3flXRyHvjZZ",
        "colab": {
          "base_uri": "https://localhost:8080/"
        },
        "outputId": "175c272c-73ba-4e3f-db0f-61268b93a058"
      },
      "execution_count": 57,
      "outputs": [
        {
          "output_type": "stream",
          "name": "stdout",
          "text": [
            "Output text:\n",
            " Every effort moves you?\" I meant to do the picture for nothing--so it with equ out\n"
          ]
        }
      ]
    }
  ]
}